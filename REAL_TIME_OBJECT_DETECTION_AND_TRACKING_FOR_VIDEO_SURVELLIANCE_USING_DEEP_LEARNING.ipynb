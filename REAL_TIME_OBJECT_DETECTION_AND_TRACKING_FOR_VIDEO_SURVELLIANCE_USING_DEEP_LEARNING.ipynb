{
  "cells": [
    {
      "cell_type": "markdown",
      "metadata": {
        "id": "view-in-github",
        "colab_type": "text"
      },
      "source": [
        "<a href=\"https://colab.research.google.com/github/Bhagyashree0201/REAL-TIME-OBJECT-DETECTION-AND-TRACKING-FOR-VIDEO-SURVELLIANCE-USING-DEEP-LEARNING/blob/main/REAL_TIME_OBJECT_DETECTION_AND_TRACKING_FOR_VIDEO_SURVELLIANCE_USING_DEEP_LEARNING.ipynb\" target=\"_parent\"><img src=\"https://colab.research.google.com/assets/colab-badge.svg\" alt=\"Open In Colab\"/></a>"
      ]
    },
    {
      "cell_type": "code",
      "execution_count": null,
      "metadata": {
        "id": "PEHxqyGweZgQ"
      },
      "outputs": [],
      "source": [
        "#!pip install np_utils"
      ]
    },
    {
      "cell_type": "code",
      "execution_count": null,
      "metadata": {
        "id": "bD-nD2pvequc"
      },
      "outputs": [],
      "source": [
        "import os\n",
        "import cv2     # for capturing videos\n",
        "import math\n",
        "import geocoder\n",
        "import requests\n",
        "%matplotlib inline\n",
        "import pandas as pd\n",
        "# from twilio.rest import Client\n",
        "from geopy.geocoders import Nominatim\n",
        "from keras.preprocessing import image   # for preprocessing the images\n",
        "import numpy as np    # for mathematical operations\n",
        "from tensorflow import keras\n",
        "from tensorflow.keras.utils import to_categorical\n",
        "# from keras.utils import np_utils\n",
        "# from tensorflow.keras.utils import np_utils\n",
        "from tensorflow.keras.utils import to_categorical\n",
        "from matplotlib import pyplot as plt\n",
        "from skimage.transform import resize   # for resizing images"
      ]
    },
    {
      "cell_type": "code",
      "execution_count": null,
      "metadata": {
        "colab": {
          "background_save": true
        },
        "id": "06AzEmBuf0xR",
        "outputId": "eed33f42-33a2-4c15-ca64-27286e98da93"
      },
      "outputs": [
        {
          "name": "stdout",
          "output_type": "stream",
          "text": [
            "Done!\n"
          ]
        },
        {
          "ename": "FileNotFoundError",
          "evalue": "[Errno 2] No such file or directory: '575.jpg'",
          "output_type": "error",
          "traceback": [
            "\u001b[0;31m---------------------------------------------------------------------------\u001b[0m",
            "\u001b[0;31mFileNotFoundError\u001b[0m                         Traceback (most recent call last)",
            "\u001b[0;32m<ipython-input-10-616f49ca57d7>\u001b[0m in \u001b[0;36m<cell line: 18>\u001b[0;34m()\u001b[0m\n\u001b[1;32m     16\u001b[0m \u001b[0;31m#_____________________________________________________#\u001b[0m\u001b[0;34m\u001b[0m\u001b[0;34m\u001b[0m\u001b[0m\n\u001b[1;32m     17\u001b[0m \u001b[0;34m\u001b[0m\u001b[0m\n\u001b[0;32m---> 18\u001b[0;31m \u001b[0mimg\u001b[0m \u001b[0;34m=\u001b[0m \u001b[0mplt\u001b[0m\u001b[0;34m.\u001b[0m\u001b[0mimread\u001b[0m\u001b[0;34m(\u001b[0m\u001b[0;34m'575.jpg'\u001b[0m\u001b[0;34m)\u001b[0m     \u001b[0;31m# reading image using its name\u001b[0m\u001b[0;34m\u001b[0m\u001b[0;34m\u001b[0m\u001b[0m\n\u001b[0m\u001b[1;32m     19\u001b[0m \u001b[0;34m\u001b[0m\u001b[0m\n\u001b[1;32m     20\u001b[0m \u001b[0mplt\u001b[0m\u001b[0;34m.\u001b[0m\u001b[0mimshow\u001b[0m\u001b[0;34m(\u001b[0m\u001b[0mimg\u001b[0m\u001b[0;34m)\u001b[0m\u001b[0;34m\u001b[0m\u001b[0;34m\u001b[0m\u001b[0m\n",
            "\u001b[0;32m/usr/local/lib/python3.10/dist-packages/matplotlib/pyplot.py\u001b[0m in \u001b[0;36mimread\u001b[0;34m(fname, format)\u001b[0m\n\u001b[1;32m   2193\u001b[0m \u001b[0;34m@\u001b[0m\u001b[0m_copy_docstring_and_deprecators\u001b[0m\u001b[0;34m(\u001b[0m\u001b[0mmatplotlib\u001b[0m\u001b[0;34m.\u001b[0m\u001b[0mimage\u001b[0m\u001b[0;34m.\u001b[0m\u001b[0mimread\u001b[0m\u001b[0;34m)\u001b[0m\u001b[0;34m\u001b[0m\u001b[0;34m\u001b[0m\u001b[0m\n\u001b[1;32m   2194\u001b[0m \u001b[0;32mdef\u001b[0m \u001b[0mimread\u001b[0m\u001b[0;34m(\u001b[0m\u001b[0mfname\u001b[0m\u001b[0;34m,\u001b[0m \u001b[0mformat\u001b[0m\u001b[0;34m=\u001b[0m\u001b[0;32mNone\u001b[0m\u001b[0;34m)\u001b[0m\u001b[0;34m:\u001b[0m\u001b[0;34m\u001b[0m\u001b[0;34m\u001b[0m\u001b[0m\n\u001b[0;32m-> 2195\u001b[0;31m     \u001b[0;32mreturn\u001b[0m \u001b[0mmatplotlib\u001b[0m\u001b[0;34m.\u001b[0m\u001b[0mimage\u001b[0m\u001b[0;34m.\u001b[0m\u001b[0mimread\u001b[0m\u001b[0;34m(\u001b[0m\u001b[0mfname\u001b[0m\u001b[0;34m,\u001b[0m \u001b[0mformat\u001b[0m\u001b[0;34m)\u001b[0m\u001b[0;34m\u001b[0m\u001b[0;34m\u001b[0m\u001b[0m\n\u001b[0m\u001b[1;32m   2196\u001b[0m \u001b[0;34m\u001b[0m\u001b[0m\n\u001b[1;32m   2197\u001b[0m \u001b[0;34m\u001b[0m\u001b[0m\n",
            "\u001b[0;32m/usr/local/lib/python3.10/dist-packages/matplotlib/image.py\u001b[0m in \u001b[0;36mimread\u001b[0;34m(fname, format)\u001b[0m\n\u001b[1;32m   1561\u001b[0m             \u001b[0;34m\"``np.array(PIL.Image.open(urllib.request.urlopen(url)))``.\"\u001b[0m\u001b[0;34m\u001b[0m\u001b[0;34m\u001b[0m\u001b[0m\n\u001b[1;32m   1562\u001b[0m             )\n\u001b[0;32m-> 1563\u001b[0;31m     \u001b[0;32mwith\u001b[0m \u001b[0mimg_open\u001b[0m\u001b[0;34m(\u001b[0m\u001b[0mfname\u001b[0m\u001b[0;34m)\u001b[0m \u001b[0;32mas\u001b[0m \u001b[0mimage\u001b[0m\u001b[0;34m:\u001b[0m\u001b[0;34m\u001b[0m\u001b[0;34m\u001b[0m\u001b[0m\n\u001b[0m\u001b[1;32m   1564\u001b[0m         return (_pil_png_to_float_array(image)\n\u001b[1;32m   1565\u001b[0m                 \u001b[0;32mif\u001b[0m \u001b[0misinstance\u001b[0m\u001b[0;34m(\u001b[0m\u001b[0mimage\u001b[0m\u001b[0;34m,\u001b[0m \u001b[0mPIL\u001b[0m\u001b[0;34m.\u001b[0m\u001b[0mPngImagePlugin\u001b[0m\u001b[0;34m.\u001b[0m\u001b[0mPngImageFile\u001b[0m\u001b[0;34m)\u001b[0m \u001b[0;32melse\u001b[0m\u001b[0;34m\u001b[0m\u001b[0;34m\u001b[0m\u001b[0m\n",
            "\u001b[0;32m/usr/local/lib/python3.10/dist-packages/PIL/Image.py\u001b[0m in \u001b[0;36mopen\u001b[0;34m(fp, mode, formats)\u001b[0m\n\u001b[1;32m   3225\u001b[0m \u001b[0;34m\u001b[0m\u001b[0m\n\u001b[1;32m   3226\u001b[0m     \u001b[0;32mif\u001b[0m \u001b[0mfilename\u001b[0m\u001b[0;34m:\u001b[0m\u001b[0;34m\u001b[0m\u001b[0;34m\u001b[0m\u001b[0m\n\u001b[0;32m-> 3227\u001b[0;31m         \u001b[0mfp\u001b[0m \u001b[0;34m=\u001b[0m \u001b[0mbuiltins\u001b[0m\u001b[0;34m.\u001b[0m\u001b[0mopen\u001b[0m\u001b[0;34m(\u001b[0m\u001b[0mfilename\u001b[0m\u001b[0;34m,\u001b[0m \u001b[0;34m\"rb\"\u001b[0m\u001b[0;34m)\u001b[0m\u001b[0;34m\u001b[0m\u001b[0;34m\u001b[0m\u001b[0m\n\u001b[0m\u001b[1;32m   3228\u001b[0m         \u001b[0mexclusive_fp\u001b[0m \u001b[0;34m=\u001b[0m \u001b[0;32mTrue\u001b[0m\u001b[0;34m\u001b[0m\u001b[0;34m\u001b[0m\u001b[0m\n\u001b[1;32m   3229\u001b[0m \u001b[0;34m\u001b[0m\u001b[0m\n",
            "\u001b[0;31mFileNotFoundError\u001b[0m: [Errno 2] No such file or directory: '575.jpg'"
          ]
        }
      ],
      "source": [
        "count = 0\n",
        "videoFile = \"Accidents.mp4\"\n",
        "cap = cv2.VideoCapture(videoFile)   # capturing the video from the given path\n",
        "frameRate = cap.get(5) #frame rate\n",
        "x=1\n",
        "while(cap.isOpened()):\n",
        "    frameId = cap.get(1) #current frame number\n",
        "    ret, frame = cap.read()\n",
        "    if (ret != True):\n",
        "        break\n",
        "    if (frameId % math.floor(frameRate) == 0):\n",
        "        filename =\"%d.jpg\" % count;count+=1\n",
        "        cv2.imwrite(filename, frame)\n",
        "cap.release()\n",
        "print (\"Done!\")\n",
        "#_____________________________________________________#\n",
        "\n",
        "img = plt.imread('575.jpg')     # reading image using its name\n",
        "\n",
        "plt.imshow(img)\n",
        "\n",
        "#___________________________________________________#\n",
        "\n",
        "data = pd.read_csv('mapping.csv')     # reading the csv file\n",
        "data.head()\n",
        "\n",
        "#_____________________________________________________#\n",
        "\n",
        "X = [ ]     # creating an empty array\n",
        "for img_name in data.Image_ID:\n",
        "    img = plt.imread('' + img_name)\n",
        "    X.append(img)  # storing each image in array X\n",
        "X = np.array(X)    # converting list to array\n",
        "\n",
        "#_____________________________________________________#\n",
        "\n",
        "y = data.Class\n",
        "dummy_y = to_categorical(y)\n",
        "\n",
        "#_____________________________________________________#\n",
        "\n",
        "\n",
        "image = []\n",
        "for i in range(0,X.shape[0]):\n",
        "    a = resize(X[i], preserve_range=True, output_shape=(224,224)).astype(int)      # reshaping to 224*224*3\n",
        "    image.append(a)\n",
        "X = np.array(image)\n",
        "\n",
        "\n",
        "#_____________________________________________________#\n",
        "\n",
        "\n",
        "from keras.applications.vgg16 import preprocess_input\n",
        "X = preprocess_input(X,data_format=None)\n",
        "\n",
        "#_____________________________________________________#\n",
        "\n",
        "from sklearn.model_selection import train_test_split\n",
        "X_train, X_valid, y_train, y_valid = train_test_split(X, dummy_y, test_size=0.3, random_state=42)\n",
        "\n",
        "#_____________________________________________________#\n",
        "\n",
        "from keras.models import Sequential\n",
        "from keras.applications.vgg16 import VGG16\n",
        "from keras.layers import Dense, InputLayer, Dropout\n",
        "\n",
        "#_____________________________________________________#\n",
        "\n",
        "base_model = VGG16(weights='imagenet', include_top=False, input_shape=(224, 224, 3))\n",
        "\n",
        "#_____________________________________________________#\n",
        "\n",
        "X_train = base_model.predict(X_train)\n",
        "X_valid = base_model.predict(X_valid)\n",
        "X_train.shape, X_valid.shape\n",
        "\n",
        "#_____________________________________________________#\n",
        "\n",
        "X_train = X_train.reshape(155, 7*7*512)      # converting to 1-D\n",
        "X_valid = X_valid.reshape(67, 7*7*512)\n",
        "\n",
        "#_____________________________________________________#\n",
        "\n",
        "\n",
        "train = X_train/X_train.max()      # centering the data\n",
        "X_valid = X_valid/X_train.max()\n",
        "\n",
        "\n",
        "#_____________________________________________________#\n",
        "\n",
        "\n",
        "model = Sequential()\n",
        "model.add(InputLayer((7*7*512,)))    # input layer\n",
        "model.add(Dense(units=1024, activation='sigmoid')) # hidden layer\n",
        "model.add(Dense(2, activation='softmax'))    # output layer\n",
        "\n",
        "\n",
        "#_____________________________________________________#\n",
        "\n",
        "model.summary()\n",
        "\n",
        "\n"
      ]
    },
    {
      "cell_type": "code",
      "execution_count": null,
      "metadata": {
        "colab": {
          "base_uri": "https://localhost:8080/"
        },
        "id": "dDpf4hT2hh1k",
        "outputId": "2c4cadcc-be76-4daf-8e20-27d3bab0d5cd"
      },
      "outputs": [
        {
          "name": "stdout",
          "output_type": "stream",
          "text": [
            "Epoch 1/10\n",
            "5/5 [==============================] - 8s 1s/step - loss: 0.0269 - accuracy: 0.9935 - val_loss: 0.8966 - val_accuracy: 0.7761\n",
            "Epoch 2/10\n",
            "5/5 [==============================] - 5s 1s/step - loss: 0.0113 - accuracy: 1.0000 - val_loss: 0.8411 - val_accuracy: 0.8507\n",
            "Epoch 3/10\n",
            "5/5 [==============================] - 6s 1s/step - loss: 0.0124 - accuracy: 1.0000 - val_loss: 0.9253 - val_accuracy: 0.7761\n",
            "Epoch 4/10\n",
            "5/5 [==============================] - 5s 1s/step - loss: 0.0047 - accuracy: 1.0000 - val_loss: 0.9666 - val_accuracy: 0.7910\n",
            "Epoch 5/10\n",
            "5/5 [==============================] - 4s 857ms/step - loss: 0.0028 - accuracy: 1.0000 - val_loss: 1.0165 - val_accuracy: 0.7761\n",
            "Epoch 6/10\n",
            "5/5 [==============================] - 3s 524ms/step - loss: 0.0024 - accuracy: 1.0000 - val_loss: 1.0407 - val_accuracy: 0.7910\n",
            "Epoch 7/10\n",
            "5/5 [==============================] - 3s 736ms/step - loss: 0.0018 - accuracy: 1.0000 - val_loss: 1.0528 - val_accuracy: 0.7761\n",
            "Epoch 8/10\n",
            "5/5 [==============================] - 3s 578ms/step - loss: 0.0014 - accuracy: 1.0000 - val_loss: 1.0320 - val_accuracy: 0.8060\n",
            "Epoch 9/10\n",
            "5/5 [==============================] - 2s 461ms/step - loss: 0.0010 - accuracy: 1.0000 - val_loss: 1.0163 - val_accuracy: 0.8209\n",
            "Epoch 10/10\n",
            "5/5 [==============================] - 3s 580ms/step - loss: 8.4784e-04 - accuracy: 1.0000 - val_loss: 1.0097 - val_accuracy: 0.8209\n"
          ]
        }
      ],
      "source": [
        "model.compile(loss='categorical_crossentropy', optimizer='adam', metrics=['accuracy'])\n",
        "\n",
        "#_____________________________________________________#\n",
        "\n",
        "model.fit(train, y_train, epochs=10, validation_data=(X_valid, y_valid))\n",
        "\n",
        "#_____________________________________________________#\n",
        "\n",
        "model.compile(loss='categorical_crossentropy', optimizer='adam', metrics=['accuracy'])\n",
        "\n",
        "#_____________________________________________________#\n",
        "\n"
      ]
    },
    {
      "cell_type": "code",
      "execution_count": null,
      "metadata": {
        "colab": {
          "base_uri": "https://localhost:8080/"
        },
        "id": "wKgQ_gLUiAkt",
        "outputId": "cff3dc6b-a41c-4b28-9311-07105a929143"
      },
      "outputs": [
        {
          "name": "stdout",
          "output_type": "stream",
          "text": [
            "Done!\n",
            "1/1 [==============================] - 4s 4s/step\n",
            "1/1 [==============================] - 0s 131ms/step\n",
            "[[4.8854081e-06 9.9999505e-01]\n",
            " [1.8563840e-04 9.9981427e-01]\n",
            " [2.3723226e-03 9.9762762e-01]\n",
            " [9.9523272e-04 9.9900466e-01]\n",
            " [2.1759162e-03 9.9782401e-01]\n",
            " [4.7393152e-01 5.2606857e-01]\n",
            " [7.6373369e-01 2.3626629e-01]\n",
            " [5.9253836e-01 4.0746167e-01]\n",
            " [8.3305746e-01 1.6694255e-01]]\n",
            "No Accident\n",
            "No Accident\n",
            "No Accident\n",
            "No Accident\n",
            "No Accident\n",
            "No Accident\n",
            "Accident\n",
            "Accident\n",
            "Accident\n"
          ]
        }
      ],
      "source": [
        "count = 0\n",
        "videoFile = \"Accident-1.mp4\"\n",
        "cap = cv2.VideoCapture(videoFile)\n",
        "frameRate = cap.get(5) #frame rate\n",
        "x=1\n",
        "while(cap.isOpened()):\n",
        "    frameId = cap.get(1) #current frame number\n",
        "    ret, frame = cap.read()\n",
        "    if (ret != True):\n",
        "        break\n",
        "    if (frameId % math.floor(frameRate) == 0):\n",
        "        filename =\"test%d.jpg\" % count;count+=1\n",
        "        cv2.imwrite(filename, frame)\n",
        "cap.release()\n",
        "print (\"Done!\")\n",
        "\n",
        "#_____________________________________________________#\n",
        "\n",
        "test = pd.read_csv('test.csv')\n",
        "\n",
        "#_____________________________________________________#\n",
        "\n",
        "\n",
        "test_image = []\n",
        "for img_name in test.Image_ID:\n",
        "    img = plt.imread('' + img_name)\n",
        "    test_image.append(img)\n",
        "test_img = np.array(test_image)\n",
        "\n",
        "#_____________________________________________________#\n",
        "\n",
        "test_image = []\n",
        "for i in range(0,test_img.shape[0]):\n",
        "    a = resize(test_img[i], preserve_range=True, output_shape=(224,224)).astype(int)\n",
        "    test_image.append(a)\n",
        "test_image = np.array(test_image)\n",
        "\n",
        "#_____________________________________________________#\n",
        "\n",
        "# preprocessing the images\n",
        "test_image = preprocess_input(test_image, data_format=None)\n",
        "\n",
        "# extracting features from the images using pretrained model\n",
        "test_image = base_model.predict(test_image)\n",
        "test_image.shape\n",
        "\n",
        "\n",
        "#_____________________________________________________#\n",
        "\n",
        "test_image = test_image.reshape(9, 7*7*512)\n",
        "\n",
        "# zero centered images\n",
        "test_image = test_image/test_image.max()\n",
        "\n",
        "#_____________________________________________________#\n",
        "\n",
        "predictions = model.predict(test_image)\n",
        "\n",
        "#_____________________________________________________#\n",
        "print(predictions)\n",
        "\n",
        "#_____________________________________________________#\n",
        "for i in range (0,9):\n",
        "    if predictions[i][0]<predictions[i][1]:\n",
        "        print(\"No Accident\")\n",
        "    else:\n",
        "        print(\"Accident\")\n"
      ]
    }
  ],
  "metadata": {
    "colab": {
      "provenance": [],
      "include_colab_link": true
    },
    "kernelspec": {
      "display_name": "Python 3",
      "name": "python3"
    },
    "language_info": {
      "name": "python"
    }
  },
  "nbformat": 4,
  "nbformat_minor": 0
}